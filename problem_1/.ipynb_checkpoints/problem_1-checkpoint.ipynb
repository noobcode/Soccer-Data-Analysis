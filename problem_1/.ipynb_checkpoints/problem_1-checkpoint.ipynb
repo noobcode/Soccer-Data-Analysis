{
 "cells": [
  {
   "cell_type": "code",
   "execution_count": 1,
   "metadata": {},
   "outputs": [],
   "source": [
    "import json\n",
    "import pandas as pd\n",
    "\n",
    "# lista di eventi di gioco fornita in formato json\n",
    "players = json.load(open('../players.json'))\n",
    "events = json.load(open('../worldCup-final.json'))"
   ]
  },
  {
   "cell_type": "code",
   "execution_count": 4,
   "metadata": {},
   "outputs": [
    {
     "data": {
      "text/html": [
       "<div>\n",
       "<style scoped>\n",
       "    .dataframe tbody tr th:only-of-type {\n",
       "        vertical-align: middle;\n",
       "    }\n",
       "\n",
       "    .dataframe tbody tr th {\n",
       "        vertical-align: top;\n",
       "    }\n",
       "\n",
       "    .dataframe thead th {\n",
       "        text-align: right;\n",
       "    }\n",
       "</style>\n",
       "<table border=\"1\" class=\"dataframe\">\n",
       "  <thead>\n",
       "    <tr style=\"text-align: right;\">\n",
       "      <th></th>\n",
       "      <th>mean_x_event</th>\n",
       "      <th>mean_y_event</th>\n",
       "    </tr>\n",
       "    <tr>\n",
       "      <th>playerId</th>\n",
       "      <th></th>\n",
       "      <th></th>\n",
       "    </tr>\n",
       "  </thead>\n",
       "  <tbody>\n",
       "    <tr>\n",
       "      <th>0</th>\n",
       "      <td>76.441176</td>\n",
       "      <td>72.100000</td>\n",
       "    </tr>\n",
       "    <tr>\n",
       "      <th>3309</th>\n",
       "      <td>30.865854</td>\n",
       "      <td>63.000000</td>\n",
       "    </tr>\n",
       "    <tr>\n",
       "      <th>3476</th>\n",
       "      <td>58.303738</td>\n",
       "      <td>32.742991</td>\n",
       "    </tr>\n",
       "    <tr>\n",
       "      <th>3682</th>\n",
       "      <td>57.969231</td>\n",
       "      <td>41.592308</td>\n",
       "    </tr>\n",
       "    <tr>\n",
       "      <th>7936</th>\n",
       "      <td>44.371212</td>\n",
       "      <td>61.818182</td>\n",
       "    </tr>\n",
       "  </tbody>\n",
       "</table>\n",
       "</div>"
      ],
      "text/plain": [
       "          mean_x_event  mean_y_event\n",
       "playerId                            \n",
       "0            76.441176     72.100000\n",
       "3309         30.865854     63.000000\n",
       "3476         58.303738     32.742991\n",
       "3682         57.969231     41.592308\n",
       "7936         44.371212     61.818182"
      ]
     },
     "execution_count": 4,
     "metadata": {},
     "output_type": "execute_result"
    }
   ],
   "source": [
    "df = pd.DataFrame(events)\n",
    "\n",
    "def transform_pos(x):\n",
    "    if len(x) < 2:\n",
    "        x.append(x[0])\n",
    "    return x\n",
    "\n",
    "df['positions'] = df['positions'].apply(transform_pos)\n",
    "\n",
    "df['x_start'] = [p[0]['x'] for p in df['positions']]\n",
    "df['y_start'] = [p[0]['y'] for p in df['positions']]\n",
    "df['x_end'] = [p[1]['x'] for p in df['positions']]\n",
    "df['y_end'] = [p[1]['y'] for p in df['positions']]\n",
    "\n",
    "data = pd.DataFrame(df.playerId)\n",
    "data['mean_x_event'] = (df['x_start'] + df['x_end']) / 2\n",
    "data['mean_y_event'] = (df['y_start'] + df['y_end']) / 2\n",
    "data.head()\n",
    "\n",
    "data_grouped = data.groupby('playerId').mean()\n",
    "data_grouped.head()"
   ]
  },
  {
   "cell_type": "code",
   "execution_count": null,
   "metadata": {
    "collapsed": true
   },
   "outputs": [],
   "source": []
  }
 ],
 "metadata": {
  "kernelspec": {
   "display_name": "Python 3",
   "language": "python",
   "name": "python3"
  },
  "language_info": {
   "codemirror_mode": {
    "name": "ipython",
    "version": 3
   },
   "file_extension": ".py",
   "mimetype": "text/x-python",
   "name": "python",
   "nbconvert_exporter": "python",
   "pygments_lexer": "ipython3",
   "version": "3.5.2"
  }
 },
 "nbformat": 4,
 "nbformat_minor": 2
}
